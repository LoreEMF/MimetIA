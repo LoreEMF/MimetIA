{
 "cells": [
  {
   "cell_type": "code",
   "execution_count": null,
   "id": "51ef3a5f",
   "metadata": {},
   "outputs": [],
   "source": [
    "import cv2\n",
    "import numpy as np\n",
    "from tf_keras.models import load_model"
   ]
  },
  {
   "cell_type": "code",
   "execution_count": 8,
   "id": "075c35fd",
   "metadata": {},
   "outputs": [
    {
     "name": "stdout",
     "output_type": "stream",
     "text": [
      "LINE : 0 Neutral\n",
      "\n",
      "----\n",
      "RAW : 0 Neutral\n",
      "LINE : 1 Feliz\n",
      "\n",
      "----\n",
      "RAW : 1 Feliz\n",
      "LINE : 2 Sorprendidao\n",
      "\n",
      "----\n",
      "RAW : 2 Sorprendidao\n"
     ]
    }
   ],
   "source": [
    "path = \"labels.txt\"\n",
    "\n",
    "with open(path, \"r\", encoding=\"utf-8\") as f:\n",
    "\t\tfor line in f.readlines():\n",
    "\t\t\traw = line.strip()\n",
    "\t\t\tprint('LINE :', line)\n",
    "\t\t\tprint('----')\n",
    "\t\t\tprint('RAW :', raw)\n",
    "\n"
   ]
  },
  {
   "cell_type": "code",
   "execution_count": 5,
   "id": "001b15f0",
   "metadata": {},
   "outputs": [
    {
     "ename": "NameError",
     "evalue": "name 'line' is not defined",
     "output_type": "error",
     "traceback": [
      "\u001b[31m---------------------------------------------------------------------------\u001b[39m",
      "\u001b[31mNameError\u001b[39m                                 Traceback (most recent call last)",
      "\u001b[36mCell\u001b[39m\u001b[36m \u001b[39m\u001b[32mIn[5]\u001b[39m\u001b[32m, line 1\u001b[39m\n\u001b[32m----> \u001b[39m\u001b[32m1\u001b[39m \u001b[43mline\u001b[49m\n",
      "\u001b[31mNameError\u001b[39m: name 'line' is not defined"
     ]
    }
   ],
   "source": [
    "line"
   ]
  }
 ],
 "metadata": {
  "kernelspec": {
   "display_name": "venv",
   "language": "python",
   "name": "python3"
  },
  "language_info": {
   "codemirror_mode": {
    "name": "ipython",
    "version": 3
   },
   "file_extension": ".py",
   "mimetype": "text/x-python",
   "name": "python",
   "nbconvert_exporter": "python",
   "pygments_lexer": "ipython3",
   "version": "3.12.6"
  }
 },
 "nbformat": 4,
 "nbformat_minor": 5
}
